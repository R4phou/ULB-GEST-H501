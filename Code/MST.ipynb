{
 "cells": [
  {
   "cell_type": "code",
   "execution_count": 15,
   "metadata": {},
   "outputs": [],
   "source": [
    "def KRUSKAL(graph, start_node):\n",
    "  print(\"Explaining the algorithm:\\n\")\n",
    "  print(\"1. Sort all the edges in the graph by weight\")\n",
    "  print(\"2. Initialize the MST with an empty set\")\n",
    "  print(\"3. Add the edge with the smallest weight to the MST\")\n",
    "  print(\"4. Repeat step 3 until all nodes are visited\\n\")\n",
    "  # Initialize the MST with the start node\n",
    "  MST = {start_node: 0}\n",
    "  visited = {start_node}\n",
    "  total_cost = 0\n",
    "  print(\"Starting Kruskal's algorithm on graph:\")\n",
    "  for node, neighbours in graph.items():\n",
    "    print(f\"Node {node}: {neighbours}\")\n",
    "  print(f\"\\nStarting with node {start_node}\")\n",
    "  while len(MST) < N:\n",
    "    # Find the edge with the smallest weight\n",
    "    min_weight = float('inf')\n",
    "    for node in visited:\n",
    "      for neighbour, weight in graph[node].items():\n",
    "        if neighbour not in visited and weight < min_weight:\n",
    "          min_weight = weight\n",
    "          min_node = neighbour\n",
    "          min_parent = node\n",
    "    # Add the edge to the MST\n",
    "    MST[min_node] = min_weight\n",
    "    visited.add(min_node)\n",
    "    total_cost += min_weight\n",
    "    print(f\"Added edge ({min_parent}, {min_node}) with weight {min_weight}\")\n",
    "  print(f\"Total cost of MST: {total_cost}\")\n",
    "  return MST, total_cost\n",
    "\n",
    "\n",
    "def PRIM(graph, start_node):\n",
    "  print(\"Explaining the algorithm:\\n\")\n",
    "  print(\"1. Initialize the MST with an arbitrary node\")\n",
    "  print(\"2. Find the edge with the smallest weight\")\n",
    "  print(\"3. Add the edge to the MST\")\n",
    "  print(\"4. Repeat steps 2 and 3 until all nodes are visited\\n\")\n",
    "  # Initialize the MST with the start node\n",
    "  MST = {start_node: 0}\n",
    "  visited = {start_node}\n",
    "  total_cost = 0\n",
    "  print(\"Starting Prim's algorithm on graph:\")\n",
    "  for node, neighbours in graph.items():\n",
    "    print(f\"Node {node}: {neighbours}\")\n",
    "  print(f\"\\nStarting with node {start_node}\")\n",
    "  while len(MST) < N:\n",
    "    # Find the edge with the smallest weight\n",
    "    min_weight = float('inf')\n",
    "    for node in visited:\n",
    "      for neighbour, weight in graph[node].items():\n",
    "        if neighbour not in visited and weight < min_weight:\n",
    "          min_weight = weight\n",
    "          min_node = neighbour\n",
    "          min_parent = node\n",
    "    # Add the edge to the MST\n",
    "    MST[min_node] = min_weight\n",
    "    visited.add(min_node)\n",
    "    total_cost += min_weight\n",
    "    print(f\"Added edge ({min_parent}, {min_node}) with weight {min_weight}\")\n",
    "  print(f\"Total cost of MST: {total_cost}\")\n",
    "  return MST, total_cost"
   ]
  },
  {
   "cell_type": "code",
   "execution_count": 16,
   "metadata": {},
   "outputs": [
    {
     "data": {
      "text/plain": [
       "{1: {2: 5, 3: 6},\n",
       " 2: {1: 5, 3: 7, 4: 8, 5: 6},\n",
       " 3: {1: 6, 2: 7, 4: 8, 5: 6},\n",
       " 4: {2: 8, 3: 8, 5: 8},\n",
       " 5: {2: 6, 3: 6, 4: 8}}"
      ]
     },
     "execution_count": 16,
     "metadata": {},
     "output_type": "execute_result"
    }
   ],
   "source": [
    "N = 5\n",
    "\n",
    "graph = {i: [] for i in range(1, N+1)}\n",
    "\n",
    "# Graph is a dictionnary of the format\n",
    "# {nodeID: [(neighbour1, weight1), (neighbour2, weight2), ...], ...}\n",
    "\n",
    "graph[1] = [(2, 5), (3, 6)]\n",
    "graph[2] = [(1, 5), (3, 7), (4, 8), (5, 6)]\n",
    "graph[3] = [(1, 6), (2, 7), (4, 8), (5, 6)]\n",
    "graph[4] = [(2, 8), (3, 8), (5, 8)]\n",
    "graph[5] = [(2, 6), (3, 6), (4, 8)]\n",
    "\n",
    "\n",
    "graph = {i: dict(neighbours) for i, neighbours in graph.items()}\n",
    "graph"
   ]
  },
  {
   "cell_type": "code",
   "execution_count": 18,
   "metadata": {},
   "outputs": [
    {
     "name": "stdout",
     "output_type": "stream",
     "text": [
      "Explaining the algorithm:\n",
      "\n",
      "1. Initialize the MST with an arbitrary node\n",
      "2. Find the edge with the smallest weight\n",
      "3. Add the edge to the MST\n",
      "4. Repeat steps 2 and 3 until all nodes are visited\n",
      "\n",
      "Starting Prim's algorithm on graph:\n",
      "Node 1: {2: 5, 3: 6}\n",
      "Node 2: {1: 5, 3: 7, 4: 8, 5: 6}\n",
      "Node 3: {1: 6, 2: 7, 4: 8, 5: 6}\n",
      "Node 4: {2: 8, 3: 8, 5: 8}\n",
      "Node 5: {2: 6, 3: 6, 4: 8}\n",
      "\n",
      "Starting with node 4\n",
      "Added edge (4, 2) with weight 8\n",
      "Added edge (2, 1) with weight 5\n",
      "Added edge (1, 3) with weight 6\n",
      "Added edge (2, 5) with weight 6\n",
      "Total cost of MST: 25\n"
     ]
    },
    {
     "data": {
      "text/plain": [
       "({4: 0, 2: 8, 1: 5, 3: 6, 5: 6}, 25)"
      ]
     },
     "execution_count": 18,
     "metadata": {},
     "output_type": "execute_result"
    }
   ],
   "source": [
    "# Compute the MST using Prim's algorithm\n",
    "PRIM(graph, 4)"
   ]
  },
  {
   "cell_type": "code",
   "execution_count": 19,
   "metadata": {},
   "outputs": [
    {
     "name": "stdout",
     "output_type": "stream",
     "text": [
      "Explaining the algorithm:\n",
      "\n",
      "1. Sort all the edges in the graph by weight\n",
      "2. Initialize the MST with an empty set\n",
      "3. Add the edge with the smallest weight to the MST\n",
      "4. Repeat step 3 until all nodes are visited\n",
      "\n",
      "Starting Kruskal's algorithm on graph:\n",
      "Node 1: {2: 5, 3: 6}\n",
      "Node 2: {1: 5, 3: 7, 4: 8, 5: 6}\n",
      "Node 3: {1: 6, 2: 7, 4: 8, 5: 6}\n",
      "Node 4: {2: 8, 3: 8, 5: 8}\n",
      "Node 5: {2: 6, 3: 6, 4: 8}\n",
      "\n",
      "Starting with node 4\n",
      "Added edge (4, 2) with weight 8\n",
      "Added edge (2, 1) with weight 5\n",
      "Added edge (1, 3) with weight 6\n",
      "Added edge (2, 5) with weight 6\n",
      "Total cost of MST: 25\n"
     ]
    },
    {
     "data": {
      "text/plain": [
       "({4: 0, 2: 8, 1: 5, 3: 6, 5: 6}, 25)"
      ]
     },
     "execution_count": 19,
     "metadata": {},
     "output_type": "execute_result"
    }
   ],
   "source": [
    "KRUSKAL(graph, 4)"
   ]
  }
 ],
 "metadata": {
  "kernelspec": {
   "display_name": "jupiter",
   "language": "python",
   "name": "python3"
  },
  "language_info": {
   "codemirror_mode": {
    "name": "ipython",
    "version": 3
   },
   "file_extension": ".py",
   "mimetype": "text/x-python",
   "name": "python",
   "nbconvert_exporter": "python",
   "pygments_lexer": "ipython3",
   "version": "3.11.10"
  }
 },
 "nbformat": 4,
 "nbformat_minor": 2
}
