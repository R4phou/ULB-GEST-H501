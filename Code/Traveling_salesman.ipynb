{
 "cells": [
  {
   "cell_type": "code",
   "execution_count": 1,
   "metadata": {},
   "outputs": [
    {
     "data": {
      "text/plain": [
       "array([[-1, 10,  8,  9,  7],\n",
       "       [10, -1, 10,  5,  6],\n",
       "       [ 8, 10, -1,  8,  9],\n",
       "       [ 9,  5,  8, -1,  6],\n",
       "       [ 7,  6,  9,  6, -1]])"
      ]
     },
     "execution_count": 1,
     "metadata": {},
     "output_type": "execute_result"
    }
   ],
   "source": [
    "import numpy as np\n",
    "\n",
    "matrix = np.array([ [-1, 10, 8, 9, 7], # 0\n",
    "                    [0, -1, 10, 5, 6],  # 1\n",
    "                    [0, 0, -1, 8, 9],    # 2\n",
    "                    [0, 0, 0, -1, 6],   # 3\n",
    "                    [0, 0, 0, 0, -1] ])  # 4\n",
    "\n",
    "for i in range(matrix.shape[0]):\n",
    "        for j in range(i):\n",
    "            matrix[i][j] = matrix[j][i]\n",
    "\n",
    "matrix"
   ]
  },
  {
   "cell_type": "code",
   "execution_count": 5,
   "metadata": {},
   "outputs": [
    {
     "name": "stdout",
     "output_type": "stream",
     "text": [
      "Starting at node 1\n",
      "Current path: [1]\n",
      "Unvisited nodes: [2, 3, 4, 5]\n",
      "Nearest neighbour to node 1 is node 5\n",
      "Current path: [1, 5]\n",
      "Unvisited nodes: [2, 3, 4]\n",
      "Nearest neighbour to node 5 is node 2\n",
      "Current path: [1, 5, 2]\n",
      "Unvisited nodes: [3, 4]\n",
      "Nearest neighbour to node 2 is node 4\n",
      "Current path: [1, 5, 2, 4]\n",
      "Unvisited nodes: [3]\n",
      "Nearest neighbour to node 4 is node 3\n",
      "Final path: [1, 5, 2, 4, 3]\n"
     ]
    },
    {
     "data": {
      "text/plain": [
       "[1, 5, 2, 4, 3]"
      ]
     },
     "execution_count": 5,
     "metadata": {},
     "output_type": "execute_result"
    }
   ],
   "source": [
    "def nearest_neighbour(matrix):\n",
    "  \"\"\"Traveling Salesman Problem: Nearest neighbour algorithm.\"\"\"\n",
    "  n = matrix.shape[0]\n",
    "  unvisited = set(range(n))\n",
    "  start = 0\n",
    "  unvisited.remove(start)\n",
    "  path = [start]\n",
    "  print(f\"Starting at node {start + 1}\")\n",
    "  \n",
    "  while unvisited:\n",
    "    nearest = min(unvisited, key=lambda x: matrix[path[-1], x])\n",
    "    print(f\"Current path: {[city + 1 for city in path]}\")\n",
    "    print(f\"Unvisited nodes: {[city + 1 for city in unvisited]}\")\n",
    "    print(f\"Nearest neighbour to node {path[-1] + 1} is node {nearest + 1}\")\n",
    "    path.append(nearest)\n",
    "    unvisited.remove(nearest)\n",
    "  \n",
    "  # Add 1 to path to get the correct city numbers\n",
    "  path = [city + 1 for city in path]\n",
    "  print(f\"Final path: {path}\")\n",
    "  return path\n",
    "\n",
    "nearest_neighbour(matrix)"
   ]
  }
 ],
 "metadata": {
  "kernelspec": {
   "display_name": "jupiter",
   "language": "python",
   "name": "python3"
  },
  "language_info": {
   "codemirror_mode": {
    "name": "ipython",
    "version": 3
   },
   "file_extension": ".py",
   "mimetype": "text/x-python",
   "name": "python",
   "nbconvert_exporter": "python",
   "pygments_lexer": "ipython3",
   "version": "3.11.10"
  }
 },
 "nbformat": 4,
 "nbformat_minor": 2
}
