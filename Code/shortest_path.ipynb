{
 "cells": [
  {
   "cell_type": "code",
   "execution_count": 9,
   "metadata": {},
   "outputs": [],
   "source": [
    "# Dijkstra's algorithm\n",
    "def dijkstra(graph, start):\n",
    "  # Initialize the distance to the start node\n",
    "  distances = {node: float('infinity') for node in graph}\n",
    "  distances[start] = 0\n",
    "\n",
    "  # Initialize the list of visited nodes\n",
    "  visited = []\n",
    "\n",
    "  # While there are nodes to visit\n",
    "  while len(visited) < len(graph):\n",
    "    # Get the node with the smallest distance\n",
    "    current_node = min(\n",
    "      (node for node in graph if node not in visited),\n",
    "      key=lambda node: distances[node]\n",
    "    )\n",
    "\n",
    "    print(f\"Current node: {current_node}, Distance: {distances[current_node]}\")\n",
    "\n",
    "    # Update the distances of the neighbours of the current node\n",
    "    for neighbour, weight in graph[current_node].items():\n",
    "      new_distance = distances[current_node] + weight\n",
    "      if new_distance < distances[neighbour]:\n",
    "        print(f\"Updating distance of node {neighbour} from {distances[neighbour]} to {new_distance}\")\n",
    "        distances[neighbour] = new_distance\n",
    "\n",
    "    # Mark the current node as visited\n",
    "    visited.append(current_node)\n",
    "    print(f\"Visited nodes: {visited}\")\n",
    "    print(f\"Distances: {distances}\")\n",
    "    print(\"------\")\n",
    "\n",
    "  return distances"
   ]
  },
  {
   "cell_type": "code",
   "execution_count": 10,
   "metadata": {},
   "outputs": [],
   "source": [
    "N = 7\n",
    "\n",
    "graph = {i: [] for i in range(1, N+1)}\n",
    "\n",
    "# Graph is a dictionnary of the format\n",
    "# {nodeID: [(neighbour1, weight1), (neighbour2, weight2), ...], ...}\n",
    "\n",
    "neighbours1 = [(2, 15), (3, 20)]\n",
    "neighbours2 = [(1, 15), (4, 10), (5, 25)]\n",
    "neighbours3 = [(1, 20), (4, 15), (6, 20)]\n",
    "neighbours4 = [(2, 10), (3, 15), (5, 20), (6, 15), (7, 30)]\n",
    "neighbours5 = [(2, 25), (4, 20), (7, 10)]\n",
    "neighbours6 = [(3, 20), (4, 15), (7, 20)]\n",
    "neighbours7 = [(4, 30), (5, 10), (6, 20)]\n",
    "\n",
    "graph[1] = neighbours1\n",
    "graph[2] = neighbours2\n",
    "graph[3] = neighbours3\n",
    "graph[4] = neighbours4\n",
    "graph[5] = neighbours5\n",
    "graph[6] = neighbours6\n",
    "graph[7] = neighbours7\n",
    "\n",
    "graph = {i: dict(neighbours) for i, neighbours in graph.items()}"
   ]
  },
  {
   "cell_type": "code",
   "execution_count": 11,
   "metadata": {},
   "outputs": [
    {
     "data": {
      "text/plain": [
       "{'S': {'A': 4, 'B': 2, 'C': 8},\n",
       " 'A': {'S': 4, 'C': 5, 'D': 2},\n",
       " 'B': {'S': 2, 'C': 6, 'E': 9},\n",
       " 'C': {'S': 8, 'A': 5, 'B': 6, 'D': 1, 'E': 3, 'T': 4},\n",
       " 'D': {'A': 2, 'C': 1, 'T': 7},\n",
       " 'E': {'B': 9, 'C': 3, 'T': 5},\n",
       " 'T': {'D': 7, 'E': 5, 'C': 4}}"
      ]
     },
     "execution_count": 11,
     "metadata": {},
     "output_type": "execute_result"
    }
   ],
   "source": [
    "graph2 = {\"S\": [], \"A\": [], \"B\": [], \"C\": [], \"D\": [], \"E\": [], \"T\": []}\n",
    "\n",
    "graph2[\"S\"] = [(\"A\", 4), (\"B\", 2), (\"C\", 8)]\n",
    "graph2[\"A\"] = [(\"S\", 4), (\"C\", 5), (\"D\", 2)]\n",
    "graph2[\"B\"] = [(\"S\", 2), (\"C\", 6), (\"E\", 9)]\n",
    "graph2[\"C\"] = [(\"S\", 8), (\"A\", 5), (\"B\", 6), (\"D\", 1), (\"E\", 3), (\"T\", 4)]\n",
    "graph2[\"D\"] = [(\"A\", 2), (\"C\", 1), (\"T\", 7)]\n",
    "graph2[\"E\"] = [(\"B\", 9), (\"C\", 3), (\"T\", 5)]\n",
    "graph2[\"T\"] = [(\"D\", 7), (\"E\", 5), (\"C\", 4)]\n",
    "\n",
    "graph2 = {i: dict(neighbours) for i, neighbours in graph2.items()}\n",
    "graph2"
   ]
  },
  {
   "cell_type": "code",
   "execution_count": 12,
   "metadata": {},
   "outputs": [
    {
     "name": "stdout",
     "output_type": "stream",
     "text": [
      "Current node: 1, Distance: 0\n",
      "Updating distance of node 2 from inf to 15\n",
      "Updating distance of node 3 from inf to 20\n",
      "Visited nodes: [1]\n",
      "Distances: {1: 0, 2: 15, 3: 20, 4: inf, 5: inf, 6: inf, 7: inf}\n",
      "------\n",
      "Current node: 2, Distance: 15\n",
      "Updating distance of node 4 from inf to 25\n",
      "Updating distance of node 5 from inf to 40\n",
      "Visited nodes: [1, 2]\n",
      "Distances: {1: 0, 2: 15, 3: 20, 4: 25, 5: 40, 6: inf, 7: inf}\n",
      "------\n",
      "Current node: 3, Distance: 20\n",
      "Updating distance of node 6 from inf to 40\n",
      "Visited nodes: [1, 2, 3]\n",
      "Distances: {1: 0, 2: 15, 3: 20, 4: 25, 5: 40, 6: 40, 7: inf}\n",
      "------\n",
      "Current node: 4, Distance: 25\n",
      "Updating distance of node 7 from inf to 55\n",
      "Visited nodes: [1, 2, 3, 4]\n",
      "Distances: {1: 0, 2: 15, 3: 20, 4: 25, 5: 40, 6: 40, 7: 55}\n",
      "------\n",
      "Current node: 5, Distance: 40\n",
      "Updating distance of node 7 from 55 to 50\n",
      "Visited nodes: [1, 2, 3, 4, 5]\n",
      "Distances: {1: 0, 2: 15, 3: 20, 4: 25, 5: 40, 6: 40, 7: 50}\n",
      "------\n",
      "Current node: 6, Distance: 40\n",
      "Visited nodes: [1, 2, 3, 4, 5, 6]\n",
      "Distances: {1: 0, 2: 15, 3: 20, 4: 25, 5: 40, 6: 40, 7: 50}\n",
      "------\n",
      "Current node: 7, Distance: 50\n",
      "Visited nodes: [1, 2, 3, 4, 5, 6, 7]\n",
      "Distances: {1: 0, 2: 15, 3: 20, 4: 25, 5: 40, 6: 40, 7: 50}\n",
      "------\n"
     ]
    },
    {
     "data": {
      "text/plain": [
       "{1: 0, 2: 15, 3: 20, 4: 25, 5: 40, 6: 40, 7: 50}"
      ]
     },
     "execution_count": 12,
     "metadata": {},
     "output_type": "execute_result"
    }
   ],
   "source": [
    "dijkstra(graph, 1)"
   ]
  },
  {
   "cell_type": "code",
   "execution_count": 13,
   "metadata": {},
   "outputs": [
    {
     "name": "stdout",
     "output_type": "stream",
     "text": [
      "Current node: S, Distance: 0\n",
      "Updating distance of node A from inf to 4\n",
      "Updating distance of node B from inf to 2\n",
      "Updating distance of node C from inf to 8\n",
      "Visited nodes: ['S']\n",
      "Distances: {'S': 0, 'A': 4, 'B': 2, 'C': 8, 'D': inf, 'E': inf, 'T': inf}\n",
      "------\n",
      "Current node: B, Distance: 2\n",
      "Updating distance of node E from inf to 11\n",
      "Visited nodes: ['S', 'B']\n",
      "Distances: {'S': 0, 'A': 4, 'B': 2, 'C': 8, 'D': inf, 'E': 11, 'T': inf}\n",
      "------\n",
      "Current node: A, Distance: 4\n",
      "Updating distance of node D from inf to 6\n",
      "Visited nodes: ['S', 'B', 'A']\n",
      "Distances: {'S': 0, 'A': 4, 'B': 2, 'C': 8, 'D': 6, 'E': 11, 'T': inf}\n",
      "------\n",
      "Current node: D, Distance: 6\n",
      "Updating distance of node C from 8 to 7\n",
      "Updating distance of node T from inf to 13\n",
      "Visited nodes: ['S', 'B', 'A', 'D']\n",
      "Distances: {'S': 0, 'A': 4, 'B': 2, 'C': 7, 'D': 6, 'E': 11, 'T': 13}\n",
      "------\n",
      "Current node: C, Distance: 7\n",
      "Updating distance of node E from 11 to 10\n",
      "Updating distance of node T from 13 to 11\n",
      "Visited nodes: ['S', 'B', 'A', 'D', 'C']\n",
      "Distances: {'S': 0, 'A': 4, 'B': 2, 'C': 7, 'D': 6, 'E': 10, 'T': 11}\n",
      "------\n",
      "Current node: E, Distance: 10\n",
      "Visited nodes: ['S', 'B', 'A', 'D', 'C', 'E']\n",
      "Distances: {'S': 0, 'A': 4, 'B': 2, 'C': 7, 'D': 6, 'E': 10, 'T': 11}\n",
      "------\n",
      "Current node: T, Distance: 11\n",
      "Visited nodes: ['S', 'B', 'A', 'D', 'C', 'E', 'T']\n",
      "Distances: {'S': 0, 'A': 4, 'B': 2, 'C': 7, 'D': 6, 'E': 10, 'T': 11}\n",
      "------\n"
     ]
    },
    {
     "data": {
      "text/plain": [
       "{'S': 0, 'A': 4, 'B': 2, 'C': 7, 'D': 6, 'E': 10, 'T': 11}"
      ]
     },
     "execution_count": 13,
     "metadata": {},
     "output_type": "execute_result"
    }
   ],
   "source": [
    "dijkstra(graph2, \"S\")"
   ]
  }
 ],
 "metadata": {
  "kernelspec": {
   "display_name": "jupiter",
   "language": "python",
   "name": "python3"
  },
  "language_info": {
   "codemirror_mode": {
    "name": "ipython",
    "version": 3
   },
   "file_extension": ".py",
   "mimetype": "text/x-python",
   "name": "python",
   "nbconvert_exporter": "python",
   "pygments_lexer": "ipython3",
   "version": "3.11.10"
  }
 },
 "nbformat": 4,
 "nbformat_minor": 2
}
